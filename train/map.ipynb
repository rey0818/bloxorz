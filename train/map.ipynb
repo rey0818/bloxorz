{
 "cells": [
  {
   "cell_type": "code",
   "execution_count": 89,
   "metadata": {},
   "outputs": [],
   "source": [
    "import torch\n",
    "import torch.nn as nn\n",
    "import torch.optim as optim\n",
    "import numpy as np\n",
    "from copy import deepcopy\n",
    "from queue import Queue\n",
    "\n",
    "device = torch.device(\"cuda\" if torch.cuda.is_available() else \"cpu\")"
   ]
  },
  {
   "cell_type": "code",
   "execution_count": 90,
   "metadata": {},
   "outputs": [],
   "source": [
    "W=10\n",
    "H=10\n",
    "N=0\n",
    "inf=1<<30\n",
    "\n",
    "deltaPos = [ # up, down, left, right\n",
    "    [(-2, 0, 1), (1, 0, 1), (0, -2, 2), (0, 1, 2)],\n",
    "    [(-1, 0, 0), (2, 0, 0), (0, -1, 1), (0, 1, 1)],\n",
    "    [(-1, 0, 2), (1, 0, 2), (0, -1, 0), (0, 2, 0)]\n",
    "]"
   ]
  },
  {
   "cell_type": "code",
   "execution_count": 91,
   "metadata": {},
   "outputs": [],
   "source": [
    "class State:\n",
    "    def __init__(self, x, y, dir):\n",
    "        self.x = x\n",
    "        self.y = y\n",
    "        self.dir = dir\n",
    "    \n",
    "    def move(self, dir: int):\n",
    "        ret = State(self.x+deltaPos[self.dir][dir][0], self.y+deltaPos[self.dir][dir][1], deltaPos[self.dir][dir][2])\n",
    "        return ret\n",
    "    \n",
    "    def occupied(self):\n",
    "        ret = [(self.x, self.y)]\n",
    "        if self.dir == 1: ret.append((self.x+1, self.y))\n",
    "        if self.dir == 2: ret.append((self.x, self.y+1))\n",
    "        return ret\n",
    "    \n",
    "    def to_map(self):\n",
    "        ret=[]\n",
    "        for _ in range(W): ret.append([0 for _ in range(H)])\n",
    "        for x, y in self.occupied(): ret[x][y] = 1\n",
    "        return ret\n",
    "    \n",
    "    def copy(self):\n",
    "        return State(self.x, self.y, self.dir)\n",
    "    \n",
    "    def __eq__(self, other):\n",
    "        return self.x == other.x and self.y == other.y and self.dir == other.dir\n",
    "    "
   ]
  },
  {
   "cell_type": "code",
   "execution_count": 92,
   "metadata": {},
   "outputs": [],
   "source": [
    "def decode(map):\n",
    "    m = deepcopy(map)\n",
    "    for i in range(W):\n",
    "        for j in range(H):\n",
    "            if m[i][j] == -1:\n",
    "                m[i][j] = 1\n",
    "                return (np.array(m), State(i, j, 0))\n",
    "\n",
    "def bound(x, y):\n",
    "    return x >= 0 and x < W and y >= 0 and y < H"
   ]
  },
  {
   "cell_type": "code",
   "execution_count": 93,
   "metadata": {},
   "outputs": [],
   "source": [
    "class Board:\n",
    "    def __init__(self, map: np.array, exit: State):\n",
    "        self.map = deepcopy(map)\n",
    "        self.exit = exit.copy()\n",
    "        self.dist = np.full((W,H,3), -1, dtype=int)\n",
    "        self.bfs(exit)\n",
    "    \n",
    "    def valid(self, state: State):\n",
    "        for x, y in state.occupied():\n",
    "            if not bound(x, y) or self.map[x][y] == 0: return False\n",
    "        return True\n",
    "    \n",
    "    def bfs(self, s: State):\n",
    "        q = Queue()\n",
    "        q.put((s, 0))\n",
    "        while not q.empty():\n",
    "            st, d = q.get()\n",
    "            if not self.valid(st) or self.dist[st.x][st.y][st.dir] != -1:\n",
    "                continue\n",
    "            self.dist[st.x][st.y][st.dir] = d\n",
    "            for dir in range(4):\n",
    "                q.put((st.move(dir), d + 1))\n",
    "\n",
    "    def get_adj(self, state: State):\n",
    "        ret = []\n",
    "        dc = self.dist[state.x][state.y][state.dir]\n",
    "        for dir in range(4):\n",
    "            st = state.move(dir)\n",
    "            if self.valid(st): ret.append(max(0, dc-self.dist[st.x][st.y][st.dir]))\n",
    "            else: ret.append(-1)\n",
    "        return ret\n"
   ]
  },
  {
   "cell_type": "code",
   "execution_count": 94,
   "metadata": {},
   "outputs": [],
   "source": [
    "class Model(nn.Module):\n",
    "    def __init__(self):\n",
    "        super(Model, self).__init__()\n",
    "        self.conv1 = nn.Conv2d(3, 16, 3, padding=1)\n",
    "        self.conv2 = nn.Conv2d(16, 32, 3, padding=1)\n",
    "        self.fc1 = nn.Linear(32*W*H, 128)\n",
    "        self.fc2 = nn.Linear(128, 64)\n",
    "        self.fc3 = nn.Linear(64, 4)\n",
    "    \n",
    "    def forward(self, x):\n",
    "        x = self.conv1(x)\n",
    "        x = nn.functional.relu(x)\n",
    "        x = self.conv2(x)\n",
    "        x = nn.functional.relu(x)\n",
    "        x = x.view(-1, 32*W*H)\n",
    "        x = self.fc1(x)\n",
    "        x = nn.functional.relu(x)\n",
    "        x = self.fc2(x)\n",
    "        x = nn.functional.relu(x)\n",
    "        x = self.fc3(x)\n",
    "        return x"
   ]
  },
  {
   "cell_type": "code",
   "execution_count": 95,
   "metadata": {},
   "outputs": [],
   "source": [
    "class Train:\n",
    "    def __init__(self):\n",
    "        self.model = Model().to(device)\n",
    "        self.board = None\n",
    "        self.optimizer = optim.Adam(self.model.parameters(), lr=1e-4)\n",
    "        self.loss = nn.MSELoss()\n",
    "    \n",
    "    def load(self, path):\n",
    "        self.model.load_state_dict(torch.load(path))\n",
    "    \n",
    "    def save(self, path):\n",
    "        torch.save(self.model.state_dict(), path)\n",
    "\n",
    "    def train_all(self, maps, predict=False):\n",
    "        for i, map in enumerate(maps):\n",
    "            self.board = Board(*decode(map))\n",
    "            print(f'{i}/{len(maps)}: {self.train_cur(predict=predict)}')\n",
    "    \n",
    "    def train_cur(self, predict=False):\n",
    "        num, sum = 0, 0\n",
    "        for x in range(W):\n",
    "            for y in range(H):\n",
    "                for dir in range(3):\n",
    "                    st = State(x, y, dir)\n",
    "                    if not self.board.valid(st): continue\n",
    "                    num += 1\n",
    "                    sum += self.train(st, predict=predict)\n",
    "        return sum / num\n",
    "\n",
    "    def train(self, state: State, predict=False):\n",
    "        inp = torch.tensor([self.board.map, state.to_map(), self.board.exit.to_map()], dtype=torch.float32).to(device)\n",
    "        out = self.model(inp.unsqueeze(0))\n",
    "        ans = torch.tensor(self.board.get_adj(state), dtype=torch.float32).to(device)\n",
    "        if not predict:\n",
    "            loss = self.loss(out, ans)\n",
    "            self.optimizer.zero_grad()\n",
    "            loss.backward()\n",
    "            self.optimizer.step()\n",
    "            return loss.item()\n",
    "        out = out.squeeze().detach().numpy()\n",
    "        ind = np.argmax(out)\n",
    "        if out[ind] < 0 and ans == [-1, -1, -1, -1]: return 1\n",
    "        if ans[ind] == 1: return 1\n",
    "        return 0"
   ]
  },
  {
   "cell_type": "code",
   "execution_count": 96,
   "metadata": {},
   "outputs": [],
   "source": [
    "class Parser:\n",
    "    def __init__(self, path):\n",
    "        self.path=path\n",
    "    \n",
    "    def parse(self):\n",
    "        maps=[]\n",
    "        with open(self.path, 'r') as f:\n",
    "            data = f.read().split(\"\\n\\n\")[:-1]\n",
    "            for i in data:\n",
    "                maps.append([[int(k) for k in j.split()] for j in i.split(\"\\n\")])\n",
    "        return maps"
   ]
  },
  {
   "cell_type": "code",
   "execution_count": 97,
   "metadata": {},
   "outputs": [],
   "source": [
    "maps = Parser('gen4.txt').parse()"
   ]
  },
  {
   "cell_type": "code",
   "execution_count": 98,
   "metadata": {},
   "outputs": [],
   "source": [
    "train = Train()"
   ]
  },
  {
   "cell_type": "code",
   "execution_count": 99,
   "metadata": {},
   "outputs": [],
   "source": [
    "# train.train_all(maps)"
   ]
  },
  {
   "cell_type": "code",
   "execution_count": 100,
   "metadata": {},
   "outputs": [],
   "source": [
    "train.load('model.pt')"
   ]
  },
  {
   "cell_type": "code",
   "execution_count": 101,
   "metadata": {},
   "outputs": [
    {
     "name": "stdout",
     "output_type": "stream",
     "text": [
      "0/10: 0.6810344827586207\n",
      "1/10: 0.5853658536585366\n",
      "2/10: 0.6702127659574468\n",
      "3/10: 0.5555555555555556\n",
      "4/10: 0.6507936507936508\n",
      "5/10: 0.759090909090909\n",
      "6/10: 0.7040816326530612\n",
      "7/10: 0.6234567901234568\n",
      "8/10: 0.7130434782608696\n",
      "9/10: 0.7033898305084746\n"
     ]
    }
   ],
   "source": [
    "train.train_all(maps[:10], predict=True)"
   ]
  },
  {
   "cell_type": "code",
   "execution_count": 102,
   "metadata": {},
   "outputs": [
    {
     "name": "stdout",
     "output_type": "stream",
     "text": [
      "0/10: 0.6810344827586207\n",
      "1/10: 0.5853658536585366\n",
      "2/10: 0.6702127659574468\n",
      "3/10: 0.5555555555555556\n",
      "4/10: 0.6507936507936508\n",
      "5/10: 0.759090909090909\n",
      "6/10: 0.7040816326530612\n",
      "7/10: 0.6234567901234568\n",
      "8/10: 0.7130434782608696\n",
      "9/10: 0.7033898305084746\n"
     ]
    }
   ],
   "source": [
    "train.train_all(maps[:10], predict=True)"
   ]
  },
  {
   "cell_type": "code",
   "execution_count": 103,
   "metadata": {},
   "outputs": [],
   "source": [
    "# train.save('model.pt')"
   ]
  }
 ],
 "metadata": {
  "kernelspec": {
   "display_name": "Python 3",
   "language": "python",
   "name": "python3"
  },
  "language_info": {
   "codemirror_mode": {
    "name": "ipython",
    "version": 3
   },
   "file_extension": ".py",
   "mimetype": "text/x-python",
   "name": "python",
   "nbconvert_exporter": "python",
   "pygments_lexer": "ipython3",
   "version": "3.11.4"
  }
 },
 "nbformat": 4,
 "nbformat_minor": 2
}
